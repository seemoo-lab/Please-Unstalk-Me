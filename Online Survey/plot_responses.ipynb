{
 "cells": [
  {
   "cell_type": "code",
   "execution_count": 7,
   "metadata": {},
   "outputs": [
    {
     "name": "stdout",
     "output_type": "stream",
     "text": [
      "['Noteworthy', 'cmsy10', 'Khmer MN', 'Noto Sans Tai Viet', 'Khmer Sangam MN', 'Mukta Mahee', 'InaiMathi', 'DejaVu Serif Display', 'Noto Sans Mahajani', 'American Typewriter', 'Noto Sans Yi', 'Gujarati MT', 'STIXVariants', 'Oriya Sangam MN', 'Noto Sans Duployan', 'Party LET', 'Gurmukhi MN', 'Kohinoor Bangla', 'Noto Sans Old Italic', 'Noto Sans Kannada', 'Noto Sans Syriac', 'Athelas', 'Noto Sans Modi', 'Apple Symbols', 'Noto Sans Manichaean', 'SignPainter', 'Muna', 'Helvetica Neue', 'Charter', 'Lao MN', 'Noto Sans Hanunoo', 'Bodoni 72 Oldstyle', 'Noto Sans Coptic', 'Noto Sans Avestan', 'Kokonor', 'Noto Sans Takri', 'Noto Sans Khojki', 'Kohinoor Telugu', 'Noto Sans Psalter Pahlavi', 'Noto Sans Wancho', 'Mshtakan', 'STIXSizeThreeSym', 'Palatino', 'Malayalam Sangam MN', 'Futura', 'Malayalam MN', 'Marion', 'Noto Sans Bassa Vah', '.SF NS Rounded', 'Noto Sans Javanese', 'Noto Sans Syloti Nagri', 'Rockwell', 'STIXIntegralsUp', 'Courier New', 'Nadeem', 'Kohinoor Devanagari', 'cmss10', 'Noto Sans Chakma', 'Noto Sans Nabataean', 'Times', 'STIXSizeFiveSym', 'Krungthep', 'Sana', 'Noto Serif Yezidi', 'Noto Sans Tifinagh', 'Kohinoor Gujarati', 'Noto Sans Adlam', 'Noto Sans Hanifi Rohingya', 'PT Serif', 'Zapf Dingbats', 'Bradley Hand', 'Noto Sans Multani', 'Noto Sans Linear B', 'Gurmukhi Sangam MN', 'Arial Narrow', 'Noto Sans Old Persian', 'Noto Sans Pahawh Hmong', 'Noto Serif Myanmar', 'Microsoft Sans Serif', 'Trebuchet MS', 'Noto Sans Tagalog', 'Avenir Next', 'Luminari', 'Noto Sans Oriya', '.Keyboard', 'Devanagari MT', 'Mishafi', 'Brush Script MT', 'Noto Nastaliq Urdu', 'cmr10', 'Noto Sans Mandaic', 'Al Nile', 'Sathu', 'New Peninim MT', 'Noto Sans Osage', 'Avenir', 'Noto Sans Imperial Aramaic', 'Menlo', 'Andale Mono', 'Impact', 'Didot', 'Noto Sans Siddham', 'Noto Sans Gothic', 'Noto Sans Khudawadi', 'Hiragino Sans GB', 'PT Serif Caption', 'Noto Sans NKo', 'PingFang HK', 'cmmi10', 'Beirut', 'Farisi', 'Comic Sans MS', 'ITF Devanagari', 'Corsiva Hebrew', 'Tamil MN', 'Noto Sans Rejang', 'Myanmar MN', 'Courier', 'Gill Sans', '.SF Arabic', 'Noto Sans Gunjala Gondi', '.New York', 'Raanana', 'Noto Sans Myanmar', 'Superclarendon', 'AppleGothic', 'DejaVu Serif', 'DIN Condensed', 'Noto Sans Lydian', 'Monaco', 'Georgia', 'Thonburi', 'Arial', 'Noto Sans Batak', '.SF Compact', 'Noto Sans Meetei Mayek', 'Bangla MN', 'Noto Sans Ol Chiki', 'Wingdings 2', 'Noto Sans Old Hungarian', 'STIXNonUnicode', 'Apple Braille', 'Al Bayan', 'Noto Sans Armenian', 'Roboto', 'Noto Sans Masaram Gondi', 'Kannada Sangam MN', 'STIXSizeTwoSym', 'Apple SD Gothic Neo', 'Geneva', 'Galvji', 'Hoefler Text', 'Noto Sans PhagsPa', 'Kailasa', 'Noto Sans Palmyrene', 'Lao Sangam MN', 'Noto Sans Tagbanwa', 'STIXGeneral', 'Noto Sans Marchen', 'Diwan Thuluth', 'Sukhumvit Set', 'Arial Hebrew', 'Bangla Sangam MN', 'Noto Sans New Tai Lue', 'cmb10', 'Noto Sans Linear A', 'Wingdings', 'Verdana', 'AppleMyungjo', 'MesloLGS NF', 'Noto Sans Inscriptional Pahlavi', 'Kannada MN', 'Mishafi Gold', 'Tahoma', 'Myanmar Sangam MN', 'Optima', 'Noto Serif Balinese', 'Noto Sans Lisu', 'Bodoni Ornaments', 'Noto Sans Kharoshthi', 'Hiragino Sans', 'Al Tarikh', 'Noto Sans Tai Le', 'Times New Roman', 'Heiti TC', 'Noto Sans Egyptian Hieroglyphs', 'Big Caslon', 'Herculanum', 'Songti SC', 'Gujarati Sangam MN', 'Webdings', '.Aqua Kana', 'Noto Sans Ugaritic', 'Noto Sans Cuneiform', 'Kefa', 'Symbol', 'Chalkduster', 'Noto Sans Mende Kikakui', 'Geeza Pro', 'Damascus', 'Noto Sans Elbasan', 'Noto Sans Bamum', 'PT Sans', 'STIXIntegralsSm', 'Noto Sans Kayah Li', 'Euphemia UCAS', 'Noto Sans Meroitic', 'Devanagari Sangam MN', 'Phosphate', 'Gurmukhi MT', 'Ayuthaya', 'Silom', '.SF Compact Rounded', 'Bodoni 72 Smallcaps', 'Shree Devanagari 714', 'Noto Sans Glagolitic', 'STIXSizeOneSym', 'Lucida Grande', 'Tamil Sangam MN', 'System Font', 'Marker Felt', 'Noto Sans Lepcha', 'Noto Sans Inscriptional Parthian', 'Noto Sans Caucasian Albanian', 'Noto Sans Tirhuta', 'Noto Sans Samaritan', 'Noto Sans Thaana', 'Noto Sans Cham', 'Telugu MN', 'Noto Sans Buginese', 'DIN Alternate', 'Noto Sans Lycian', 'Noto Sans Kaithi', 'Noto Sans Hatran', 'Noto Sans Brahmi', 'Snell Roundhand', 'Noto Sans Phoenician', 'Bodoni 72', 'STIXIntegralsUpD', 'Noto Sans Mongolian', 'Noto Sans Newa', 'Iowan Old Style', 'Oriya MN', 'Noto Sans Sora Sompeng', 'Noto Sans Pau Cin Hau', 'Helvetica', 'PT Mono', 'Noto Sans Carian', 'Telugu Sangam MN', 'Noto Sans Mro', 'Hiragino Mincho ProN', 'Noto Sans Cypriot', 'Avenir Next Condensed', 'Skia', 'Diwan Kufi', 'Copperplate', 'Waseem', 'Papyrus', 'Sinhala Sangam MN', 'Plantagenet Cherokee', 'cmtt10', 'Noto Sans Old Permic', 'Noto Sans Sundanese', 'Farah', 'Baskerville', 'DecoType Naskh', 'Noto Sans Vai', 'Chalkboard', 'Noto Sans Old Turkic', 'STIXSizeFourSym', 'Seravek', 'Savoye LET', 'Noto Sans Tai Tham', 'Baghdad', 'Academy Engraved LET', 'Trattatello', 'Arial Rounded MT Bold', 'Sinhala MN', 'Noto Sans Limbu', 'STIXIntegralsUpSm', 'Noto Sans Bhaiksuki', 'Wingdings 3', 'KufiStandardGK', 'Noto Sans Sharada', 'Noto Sans Miao', 'Hiragino Maru Gothic Pro', 'Noto Sans Saurashtra', 'STIXIntegralsD', 'Noto Serif Ahom', 'Zapfino', 'Noto Sans Warang Citi', 'Arial Black', 'DejaVu Sans Display', '.SF NS Mono', 'Noto Sans Osmanya', 'Apple Chancery', 'Arial Unicode MS', 'DejaVu Sans', 'DejaVu Sans Mono', 'Noto Sans Old South Arabian', 'Cochin', 'Chalkboard SE', 'cmex10', 'Noto Sans Buhid', 'Noto Sans Old North Arabian']\n"
     ]
    }
   ],
   "source": [
    "import pandas as pd \n",
    "import numpy as np\n",
    "import seaborn as sns\n",
    "import matplotlib.pyplot as plt\n",
    "import matplotlib as mpl \n",
    "from IPython.display import display\n",
    "import os \n",
    "import json\n",
    "import importlib\n",
    "import plot_questions"
   ]
  },
  {
   "cell_type": "markdown",
   "metadata": {},
   "source": [
    "# Load the responses \n",
    "We encoded all responses in a JSON format which we load here first"
   ]
  },
  {
   "cell_type": "code",
   "execution_count": 6,
   "metadata": {},
   "outputs": [],
   "source": [
    "# Load responses from json\n",
    "\n",
    "\n",
    "survey_set = 'combined'\n",
    "\n",
    "class NpEncoder(json.JSONEncoder):\n",
    "    def default(self, obj):\n",
    "        if isinstance(obj, np.integer):\n",
    "            return int(obj)\n",
    "        if isinstance(obj, np.floating):\n",
    "            return float(obj)\n",
    "        if isinstance(obj, np.ndarray):\n",
    "            return obj.tolist()\n",
    "        return super(NpEncoder, self).default(obj)\n",
    "\n",
    "with open(f'./data/results_{survey_set}.json', 'r') as fp:\n",
    "    results =  json.loads(fp.read())\n",
    "\n",
    "with open(f'./data/results_percentage_{survey_set}.json', 'r') as fp:\n",
    "    results_percentages =  json.loads(fp.read())"
   ]
  },
  {
   "cell_type": "code",
   "execution_count": null,
   "metadata": {},
   "outputs": [],
   "source": [
    "# Latex adaption for the plot \n",
    "figsize = (2.24, 1.75) # For 3 plots in a row\n",
    "# figsize = (1.88, 1.5) # For 4 plots in a row\n",
    "# figsize = (1.68, 1.5) # For 4 plots in a row\n",
    "\n",
    "# Find the fonts \n",
    "font_names = mpl.font_manager.get_font_names()\n",
    "print(font_names)\n",
    "\n",
    "rc_dict = {\n",
    "        'figure.figsize': figsize, # For 3 plots in a row\n",
    "        'font.size': 8,\n",
    "        'grid.linewidth': 0.8,\n",
    "        'grid.alpha': 0.7,\n",
    "        'font.size': 8,\n",
    "        'font.family': 'serif',\n",
    "        'font.serif': 'Times',\n",
    "    }\n",
    "\n",
    "\n",
    "font = {'family' : 'serif', 'weight': 'normal', 'size': 8}"
   ]
  },
  {
   "cell_type": "code",
   "execution_count": null,
   "metadata": {},
   "outputs": [],
   "source": [
    "importlib.reload(plot_questions)\n",
    "# Generate plots for demographic questions\n",
    "all_questions = results.keys()\n",
    "\n",
    "# demographic_questions = [\"Please select the age group that matches your age. \", \"Please select your gender. \", \"Please select in which region you are located\"]\n",
    "# stalking_related_questions = [\"Which gender did your stalker have?\", \"How long did the stalking continue?\", \"How often have you been pursued?\", \"Have you been a victim to ongoing harassment?\", \"How is your current relation to the stalker?\", \"What do you think has been the motivation of the stalker?\", \"What methods of stalking have been used?\", \"How has stalking impacted your life?\"]\n",
    "# questions = demographic_questions\n",
    "# questions += stalking_related_questions\n",
    "# questions  += [\"Where was the tracking device located?\"]\n",
    "\n",
    "questions = all_questions\n",
    "\n",
    "\n",
    "for question in questions:\n",
    "    answers = results_percentages[question]\n",
    "    # Convert to dataframe \n",
    "    df_question = pd.DataFrame(columns=[\"answers\", \"count\"])\n",
    "    df_question[\"answers\"] = answers.keys()\n",
    "    df_question[\"count\"] = answers.values()\n",
    "    if question == \"Please select the age group that matches your age. \":\n",
    "        # Order by age \n",
    "        df_question = df_question.sort_values(by=['answers'])\n",
    "    else: \n",
    "        # Order by count \n",
    "        df_question = df_question.sort_values(by=['count'], ascending=False)\n",
    "    \n",
    "    if len(answers.keys()) <= 20 and len(answers.keys()) > 1:\n",
    "        print(f\"Trying to plot {question}\")\n",
    "        plot_questions.plot_choice_question_horizontal(df_question, question, survey_set=survey_set)"
   ]
  },
  {
   "cell_type": "code",
   "execution_count": null,
   "metadata": {},
   "outputs": [],
   "source": [
    "def barplot(df_plot:pd.DataFrame, ax:plt.Axes, title: str, x=\"Percentage\", y=\"Tracker\", bar_label_key=\"Count\"):\n",
    "    ax = sns.barplot(y=y, x=x, data=df_plot, orient=\"h\", ax=ax)\n",
    "\n",
    "    # # Set the title and labels\n",
    "    ax.set_xlabel(None)\n",
    "    ax.set_ylabel(None)\n",
    "    if x == \"Percentage\":\n",
    "        ax.xaxis.set_major_formatter(mpl.ticker.PercentFormatter())\n",
    "    ax.set_ylabel(None)\n",
    "    ax.set_title(title, pad=4)\n",
    "    count_list = df_plot[x].values.tolist()\n",
    "    max_x = df_plot[x].max()\n",
    "    # print(f\"Containers {ax.containers[0]}\")\n",
    "    # print(f\"Bar labels: {labels}\")\n",
    "    # Format as percentage with only two decimals\n",
    "\n",
    "    # labels = [f\"{label:.2f}%\" for label in count_list]\n",
    "    if bar_label_key == \"Count\":\n",
    "        labels =  [f\"{x:,.0f}\" for x in  df_plot[bar_label_key].tolist()]\n",
    "    elif bar_label_key == \"Percentage\":\n",
    "        labels = [f\"{x:.2f}%\" for x in df_plot[bar_label_key].tolist()]\n",
    "\n",
    "    ax.bar_label(ax.containers[0], labels, fontsize=7, padding=1.2)\n",
    "    # Set a higher y limit\n",
    "    xlim = ax.get_xlim()\n",
    "    ax.set_xlim(xlim[0], (max_x + 2 + max_x * 0.15))"
   ]
  },
  {
   "cell_type": "code",
   "execution_count": null,
   "metadata": {},
   "outputs": [],
   "source": [
    "\n",
    "overall_responses = 5254\n",
    "other_responses = 1684\n",
    "\n",
    "df_tracking_actors_given = pd.read_csv(\"./data/Tracking_actors_given.csv\")\n",
    "df_tracking_actors_given[\"Percentage\"] = (df_tracking_actors_given[\"Count\"] / overall_responses) * 100\n",
    "\n",
    "df_tracking_actors_other = pd.read_csv(\"./data/Tracking_actors_coded.csv\")\n",
    "df_tracking_actors_other[\"Percentage\"] = (df_tracking_actors_other[\"Count\"] / other_responses) * 100\n",
    "# Sort by count \n",
    "df_tracking_actors_given = df_tracking_actors_given.sort_values(by=\"Count\", ascending=False)\n",
    "df_tracking_actors_other = df_tracking_actors_other.sort_values(by=\"Count\", ascending=False)\n",
    "\n",
    "latex_width = 241\n",
    "fig_size = set_size(latex_width)\n",
    "no_of_answers = 6\n",
    "width = fig_size[0]\n",
    "height_0 = min(fig_size[1], 0.25 + 0.2 * 6)\n",
    "fig, axs = plt.subplots(2, 1, figsize=(width, height_0 * 2), sharex=True, sharey=\"row\", height_ratios=[1, 0.9])\n",
    "\n",
    "rc_dict[\"figure.figsize\"] = fig_size\n",
    "# Set the style for the plot\n",
    "sns.set(style=\"whitegrid\", font=\"Times\", font_scale=0.8, rc=rc_dict)\n",
    "sns.set_palette(color_palette)\n",
    "\n",
    "plt.subplots_adjust(hspace=0.12)\n",
    "\n",
    "barplot(df_tracking_actors_given, axs[0], \"Given responses\", y=\"Response\", x=\"Percentage\")\n",
    "barplot(df_tracking_actors_other, axs[1], \"Other\", y=\"Response\", x=\"Percentage\")\n",
    "\n",
    "name = \"tracking_actors.pdf\"\n",
    "out_dir = \"./plots\"\n",
    "path = os.path.join(out_dir, name)\n",
    "print(f\"Saving figure to {path}\")\n",
    "plt.tight_layout()\n",
    "plt.savefig(path,bbox_inches='tight', pad_inches=0.01)\n",
    "plt.show()\n",
    "plt.close()"
   ]
  }
 ],
 "metadata": {
  "kernelspec": {
   "display_name": "Python 3",
   "language": "python",
   "name": "python3"
  },
  "language_info": {
   "codemirror_mode": {
    "name": "ipython",
    "version": 3
   },
   "file_extension": ".py",
   "mimetype": "text/x-python",
   "name": "python",
   "nbconvert_exporter": "python",
   "pygments_lexer": "ipython3",
   "version": "3.10.8"
  }
 },
 "nbformat": 4,
 "nbformat_minor": 2
}
